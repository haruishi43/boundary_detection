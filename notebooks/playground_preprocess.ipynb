{
 "cells": [
  {
   "cell_type": "code",
   "execution_count": 2,
   "id": "36f43a66-0211-4a6b-9333-5454b9462b58",
   "metadata": {},
   "outputs": [],
   "source": [
    "import os\n",
    "import sys\n",
    "\n",
    "sys.path.append('..')"
   ]
  },
  {
   "cell_type": "code",
   "execution_count": 3,
   "id": "6bcb271b-9ad8-4e5d-a263-946b325324e5",
   "metadata": {},
   "outputs": [],
   "source": [
    "import math\n",
    "\n",
    "import matplotlib.pyplot as plt\n",
    "import numpy as np\n",
    "import pandas as pd\n",
    "from PIL import Image"
   ]
  },
  {
   "cell_type": "code",
   "execution_count": 4,
   "id": "4cd0b24a-25bc-461a-8fc2-f6ee086ce5fb",
   "metadata": {},
   "outputs": [],
   "source": [
    "%matplotlib inline"
   ]
  },
  {
   "cell_type": "code",
   "execution_count": 5,
   "id": "3bb65c9c-8fe8-4b7f-b422-96f025175836",
   "metadata": {},
   "outputs": [
    {
     "name": "stdout",
     "output_type": "stream",
     "text": [
      "True\n"
     ]
    }
   ],
   "source": [
    "DATA_ROOT = '../preprocess/data'\n",
    "print(os.path.exists(DATA_ROOT))"
   ]
  },
  {
   "cell_type": "code",
   "execution_count": 6,
   "id": "6a0b3df4-9b36-4f77-9aff-2e3c0daa86a8",
   "metadata": {},
   "outputs": [
    {
     "name": "stdout",
     "output_type": "stream",
     "text": [
      "True\n"
     ]
    }
   ],
   "source": [
    "mask_fn = 'cropped_aachen_000000_000019_labelIds.png'  # cropped\n",
    "mask_fn = 'aachen_000000_000019_gtFine_labelIds.png'\n",
    "mask_path = os.path.join(DATA_ROOT, mask_fn)\n",
    "print(os.path.exists(mask_path))"
   ]
  },
  {
   "cell_type": "code",
   "execution_count": 7,
   "id": "ff0416a4-98c6-48d9-8d36-ada432e01ef7",
   "metadata": {},
   "outputs": [],
   "source": [
    "mask_img = Image.open(mask_path)\n",
    "mask = np.array(mask_img)"
   ]
  },
  {
   "cell_type": "code",
   "execution_count": 8,
   "id": "86ef305b-06bd-4fd7-ad56-aa7c1112d770",
   "metadata": {},
   "outputs": [
    {
     "data": {
      "image/png": "[encoded data removed]",
      "text/plain": [
       "<PIL.PngImagePlugin.PngImageFile image mode=L size=2048x1024 at 0x7FD9B85E4610>"
      ]
     },
     "metadata": {},
     "output_type": "display_data"
    }
   ],
   "source": [
    "display(mask_img)"
   ]
  },
  {
   "cell_type": "markdown",
   "id": "96829e10-b62c-4de2-b8a7-8a0f5f63dcac",
   "metadata": {},
   "source": [
    "figure out the interal function for `seg2edge` "
   ]
  },
  {
   "cell_type": "code",
   "execution_count": 9,
   "id": "f36bc697-0ccc-451d-b573-e040448452f4",
   "metadata": {},
   "outputs": [],
   "source": [
    "radius = 2\n",
    "ignore_label = [2, 3]\n",
    "edge_type = \"regular\""
   ]
  },
  {
   "cell_type": "code",
   "execution_count": 10,
   "id": "d092c60b-f4f0-4a49-b4a7-4c1389acb116",
   "metadata": {},
   "outputs": [
    {
     "name": "stdout",
     "output_type": "stream",
     "text": [
      "(1024, 2048)\n"
     ]
    }
   ],
   "source": [
    "h, w = mask.shape\n",
    "print(mask.shape)"
   ]
  },
  {
   "cell_type": "code",
   "execution_count": 11,
   "id": "6de92c72-2cac-4f5d-82e8-9fde1ffbd18a",
   "metadata": {},
   "outputs": [
    {
     "name": "stdout",
     "output_type": "stream",
     "text": [
      "2\n"
     ]
    }
   ],
   "source": [
    "search_radius = int(max(math.ceil(radius), 1))\n",
    "print(search_radius)"
   ]
  },
  {
   "cell_type": "code",
   "execution_count": 12,
   "id": "8d7e9a46-d966-44db-b521-77f174d9aeb3",
   "metadata": {},
   "outputs": [],
   "source": [
    "_x = np.linspace(0, w - 1, w, dtype=np.int64)\n",
    "_y = np.linspace(0, h - 1, h, dtype=np.int64)\n",
    "_rx = np.linspace(-search_radius, search_radius, search_radius * 2 + 1, dtype=np.int64)\n",
    "_ry = np.linspace(-search_radius, search_radius, search_radius * 2 + 1, dtype=np.int64)"
   ]
  },
  {
   "cell_type": "code",
   "execution_count": 13,
   "id": "3770ae0d-4aaa-4f05-a46c-956a97fa858a",
   "metadata": {},
   "outputs": [],
   "source": [
    "X, Y = np.meshgrid(_x, _y)\n",
    "rx, ry = np.meshgrid(_rx, _ry)"
   ]
  },
  {
   "cell_type": "code",
   "execution_count": 14,
   "id": "2a1e55db-cf0a-47e8-b3c6-64be0022ed82",
   "metadata": {},
   "outputs": [],
   "source": [
    "X = X.flatten()\n",
    "Y = Y.flatten()\n",
    "rx = rx.flatten()\n",
    "ry = ry.flatten()"
   ]
  },
  {
   "cell_type": "code",
   "execution_count": 15,
   "id": "5d846234-cc58-4d85-8757-d6fd8a2d53bd",
   "metadata": {},
   "outputs": [],
   "source": [
    "neighbor_idxs = np.sqrt(rx**2 + ry**2) <= radius\n",
    "rx = rx[neighbor_idxs]\n",
    "ry = ry[neighbor_idxs]"
   ]
  },
  {
   "cell_type": "code",
   "execution_count": 16,
   "id": "33fb20a6-8050-4759-b38d-37faed41cfe8",
   "metadata": {},
   "outputs": [
    {
     "name": "stdout",
     "output_type": "stream",
     "text": [
      "2097152\n"
     ]
    }
   ],
   "source": [
    "num_img_px = len(X)\n",
    "print(len(X))"
   ]
  },
  {
   "cell_type": "code",
   "execution_count": 17,
   "id": "3826cb1a-b52c-4aa5-8185-ae474a89db21",
   "metadata": {},
   "outputs": [
    {
     "name": "stdout",
     "output_type": "stream",
     "text": [
      "0 -2\n",
      "-1 -1\n",
      "0 -1\n",
      "1 -1\n",
      "-2 0\n",
      "-1 0\n",
      "0 0\n",
      "1 0\n",
      "2 0\n",
      "-1 1\n",
      "0 1\n",
      "1 1\n",
      "0 2\n",
      "(2097152,)\n",
      "True\n"
     ]
    }
   ],
   "source": [
    "# initialize array\n",
    "edge_idx = np.zeros(num_img_px, dtype=bool)\n",
    "\n",
    "# loop radius\n",
    "for x, y in zip(rx, ry):\n",
    "    print(x, y)\n",
    "    \n",
    "    X_neighbor = X + x\n",
    "    Y_neighbor = Y + y\n",
    "    valid_idx = np.where(\n",
    "        (X_neighbor >= 0)\n",
    "        & (X_neighbor < w)\n",
    "        & (Y_neighbor >= 0)\n",
    "        & (Y_neighbor < h)\n",
    "    )[0]  # NOTE: it's a tuple...\n",
    "    \n",
    "    # print(type(valid_idx))\n",
    "    # print(valid_idx)\n",
    "    # print(valid_idx.shape)\n",
    "    \n",
    "    X_center = X[valid_idx]\n",
    "    Y_center = Y[valid_idx]\n",
    "    X_neighbor = X_neighbor[valid_idx]\n",
    "    Y_neighbor = Y_neighbor[valid_idx]\n",
    "    L_center = mask[Y_center, X_center]\n",
    "    L_neighbor = mask[Y_neighbor, X_neighbor]\n",
    "    # print(L_center)\n",
    "    # print(L_center.shape)\n",
    "    \n",
    "    \n",
    "    # FIXME: what are 'inner' and 'outer'?\n",
    "    if edge_type == \"regular\":\n",
    "        # print(edge_type)\n",
    "        \n",
    "        diff_idx = np.where(L_center != L_neighbor)[0]\n",
    "        # print(type(diff_idx))\n",
    "        # print(diff_idx)\n",
    "        # print(diff_idx.shape)\n",
    "    elif edge_type == \"inner\":\n",
    "        # print(edge_type)\n",
    "        \n",
    "#         print((L_center != 0).all())\n",
    "#         print((L_neighbor == 0).any())\n",
    "        \n",
    "        diff_idx = np.where(\n",
    "            (L_center != L_neighbor)\n",
    "            & (L_center != 0)  # FIXME: what? why 0?\n",
    "            & (L_neighbor == 0)\n",
    "        )[0]\n",
    "        # print(diff_idx)\n",
    "        # print(diff_idx.shape)\n",
    "    elif edge_type == \"outer\":\n",
    "        # print(edge_type)\n",
    "        \n",
    "        diff_idx = np.where(\n",
    "            (L_center != L_neighbor)\n",
    "            & (L_center == 0)\n",
    "            & (L_neighbor != 0)\n",
    "        )[0]\n",
    "        # print(diff_idx)\n",
    "        # print(diff_idx.shape)\n",
    "    else:\n",
    "        raise ValueError()\n",
    "        \n",
    "    L_center_edge = L_center[diff_idx]\n",
    "    L_neighbor_edge = L_neighbor[diff_idx]\n",
    "    use_idx = np.ones(diff_idx.shape, dtype=bool)\n",
    "    \n",
    "    assert L_center_edge.shape == L_neighbor_edge.shape == use_idx.shape\n",
    "    \n",
    "    for label in ignore_label:\n",
    "        ignore_idx = np.where((L_center_edge == label) | (L_neighbor_edge == label))\n",
    "        use_idx[ignore_idx] = False\n",
    "        \n",
    "    assert use_idx.shape == L_center_edge.shape == L_neighbor_edge.shape\n",
    "    \n",
    "    # print(use_idx)\n",
    "    # print(use_idx.all())\n",
    "    \n",
    "    diff_gt_idx = diff_idx[use_idx]\n",
    "    \n",
    "    edge_idx[valid_idx[diff_gt_idx]] = True\n",
    "    \n",
    "    # print(diff_gt_idx)\n",
    "    \n",
    "    # break for now\n",
    "    # break\n",
    "\n",
    "print(edge_idx.shape)\n",
    "print(edge_idx.any())\n",
    "\n",
    "edges = edge_idx.reshape(h, w)"
   ]
  },
  {
   "cell_type": "code",
   "execution_count": 18,
   "id": "b67f2a48-02de-46ef-b94e-ae0b49df7cf9",
   "metadata": {},
   "outputs": [],
   "source": [
    "edge_img = edges.astype('uint8')"
   ]
  },
  {
   "cell_type": "code",
   "execution_count": 19,
   "id": "68783cb3-72ef-4981-83a6-665174454c37",
   "metadata": {},
   "outputs": [
    {
     "data": {
      "image/png": "[encoded data removed]",
      "text/plain": [
       "<Figure size 900x600 with 1 Axes>"
      ]
     },
     "metadata": {
      "needs_background": "light"
     },
     "output_type": "display_data"
    }
   ],
   "source": [
    "plt.imshow(edges, interpolation='nearest')\n",
    "plt.gcf().set_dpi(150)"
   ]
  },
  {
   "cell_type": "code",
   "execution_count": 20,
   "id": "82168f21-aac2-4794-8431-e223b03acfa8",
   "metadata": {},
   "outputs": [
    {
     "data": {
      "image/png": "[encoded data removed]",
      "text/plain": [
       "<Figure size 900x600 with 1 Axes>"
      ]
     },
     "metadata": {
      "needs_background": "light"
     },
     "output_type": "display_data"
    }
   ],
   "source": [
    "plt.imshow(mask, interpolation='nearest')\n",
    "plt.gcf().set_dpi(150)"
   ]
  },
  {
   "cell_type": "markdown",
   "id": "dd793912-fda8-4a67-99e7-172e216bb63b",
   "metadata": {},
   "source": [
    "do `seg2edge_fast`"
   ]
  },
  {
   "cell_type": "code",
   "execution_count": 21,
   "id": "571fe057-0e90-482f-b4c4-ceb7376fd971",
   "metadata": {},
   "outputs": [],
   "source": [
    "a = np.where(edges == True)[0]"
   ]
  },
  {
   "cell_type": "code",
   "execution_count": 22,
   "id": "dede8827-5c46-4653-a706-6aca5a30a21d",
   "metadata": {},
   "outputs": [
    {
     "data": {
      "text/plain": [
       "(93415,)"
      ]
     },
     "execution_count": 22,
     "metadata": {},
     "output_type": "execute_result"
    }
   ],
   "source": [
    "a.shape"
   ]
  },
  {
   "cell_type": "code",
   "execution_count": 23,
   "id": "198c90d9-d7d7-4254-b262-fe64844627e8",
   "metadata": {},
   "outputs": [
    {
     "data": {
      "text/plain": [
       "(1024, 2048)"
      ]
     },
     "execution_count": 23,
     "metadata": {},
     "output_type": "execute_result"
    }
   ],
   "source": [
    "edges.shape"
   ]
  },
  {
   "cell_type": "code",
   "execution_count": 24,
   "id": "435da5c5-cf1c-4aa5-a32f-a8987105f366",
   "metadata": {},
   "outputs": [
    {
     "data": {
      "text/plain": [
       "93415"
      ]
     },
     "execution_count": 24,
     "metadata": {},
     "output_type": "execute_result"
    }
   ],
   "source": [
    "np.sum(edges == True)"
   ]
  },
  {
   "cell_type": "code",
   "execution_count": 25,
   "id": "048a784a-8da4-4525-9e36-e5ca39199f37",
   "metadata": {},
   "outputs": [],
   "source": [
    "car_mask = mask == 26"
   ]
  },
  {
   "cell_type": "code",
   "execution_count": 26,
   "id": "5cca9fd2-367e-4d44-92cf-a51fa75eef12",
   "metadata": {},
   "outputs": [
    {
     "data": {
      "image/png": "[encoded data removed]",
      "text/plain": [
       "<Figure size 900x600 with 1 Axes>"
      ]
     },
     "metadata": {
      "needs_background": "light"
     },
     "output_type": "display_data"
    }
   ],
   "source": [
    "plt.imshow(car_mask, interpolation='nearest')\n",
    "plt.gcf().set_dpi(150)"
   ]
  },
  {
   "cell_type": "code",
   "execution_count": 27,
   "id": "10758657-e818-4956-824b-0f386baa7425",
   "metadata": {},
   "outputs": [],
   "source": [
    "def mask2edge_fast(\n",
    "    mask,\n",
    "    candidate_edge,\n",
    "    radius,\n",
    "    ignore_labels=[],\n",
    "    edge_type=\"regular\",\n",
    "):\n",
    "    \"\"\"python version of `seg2edge_fast` subroutine\n",
    "\n",
    "    Fast version of `seg2edge` by only considering pixels in `candidate_edge`.\n",
    "\n",
    "    - the input mask should be single class boolean numpy ndarray\n",
    "    - what is the purpose of `ignore_labels`?\n",
    "    \"\"\"\n",
    "\n",
    "    # 1. get dimensions\n",
    "    assert len(mask.shape) == 2, f\"ERR: only accepts 2-dim masks, but got {mask.shape}\"\n",
    "    h, w = mask.shape\n",
    "\n",
    "    # 2. set the considered neighborhood\n",
    "    search_radius = int(max(math.ceil(radius), 1))\n",
    "    _x = np.linspace(0, w - 1, w, dtype=np.int64)\n",
    "    _y = np.linspace(0, h - 1, h, dtype=np.int64)\n",
    "    _rx = np.linspace(-search_radius, search_radius, search_radius * 2 + 1, dtype=np.int64)\n",
    "    _ry = np.linspace(-search_radius, search_radius, search_radius * 2 + 1, dtype=np.int64)\n",
    "    X, Y = np.meshgrid(_x, _y)\n",
    "    rx, ry = np.meshgrid(_rx, _ry)\n",
    "\n",
    "    # 3. columize everything (flatten)\n",
    "    X = X.flatten()\n",
    "    Y = Y.flatten()\n",
    "    rx = rx.flatten()\n",
    "    ry = ry.flatten()\n",
    "    candidate_edge = candidate_edge.flatten()\n",
    "    print(candidate_edge.shape)\n",
    "    # candidate_edge = candidate_edge is True\n",
    "    candidate_X = X[candidate_edge]\n",
    "    candidate_Y = Y[candidate_edge]\n",
    "    candidate_idx = np.where(candidate_edge)[0]\n",
    "\n",
    "    # 4. build circular neighborhood\n",
    "    neighbor_idxs = np.sqrt(rx**2 + ry**2) <= radius\n",
    "    rx = rx[neighbor_idxs]\n",
    "    ry = ry[neighbor_idxs]\n",
    "    num_img_px = len(X)\n",
    "\n",
    "    # 5. compute gaussian weight\n",
    "    edge_idx = np.zeros(num_img_px, dtype=bool)\n",
    "    for x, y in zip(rx, ry):\n",
    "        X_neighbor = candidate_X + x\n",
    "        Y_neighbor = candidate_Y + y\n",
    "        select_idx = np.where(\n",
    "            (X_neighbor >= 0)\n",
    "            & (X_neighbor < w)\n",
    "            & (Y_neighbor >= 0)\n",
    "            & (Y_neighbor < h)\n",
    "        )[0]  # NOTE: it's a tuple...\n",
    "        valid_idx = candidate_idx[select_idx]\n",
    "\n",
    "        X_center = X[valid_idx]\n",
    "        Y_center = Y[valid_idx]\n",
    "        X_neighbor = X_neighbor[select_idx]\n",
    "        Y_neighbor = Y_neighbor[select_idx]\n",
    "        L_center = mask[Y_center, X_center]\n",
    "        L_neighbor = mask[Y_neighbor, X_neighbor]\n",
    "\n",
    "        if edge_type == \"regular\":\n",
    "            diff_idx = np.where(L_center != L_neighbor)[0]\n",
    "        elif edge_type == \"inner\":\n",
    "            # TODO: understand what 'inner' does\n",
    "            diff_idx = np.where(\n",
    "                (L_center != L_neighbor)\n",
    "                & (L_center != 0)  # FIXME: what? why 0?\n",
    "                & (L_neighbor == 0)\n",
    "            )[0]\n",
    "        elif edge_type == \"outer\":\n",
    "            # TODO: understand what 'outer' does\n",
    "            diff_idx = np.where(\n",
    "                (L_center != L_neighbor)\n",
    "                & (L_center == 0)\n",
    "                & (L_neighbor != 0)\n",
    "            )[0]\n",
    "        else:\n",
    "            raise ValueError()\n",
    "\n",
    "        L_center_edge = L_center[diff_idx]\n",
    "        L_neighbor_edge = L_neighbor[diff_idx]\n",
    "        use_idx = np.ones(diff_idx.shape, dtype=bool)\n",
    "\n",
    "        assert L_center_edge.shape == L_neighbor_edge.shape == use_idx.shape\n",
    "\n",
    "        for label in ignore_labels:\n",
    "            ignore_idx = np.where((L_center_edge == label) | (L_neighbor_edge == label))\n",
    "            use_idx[ignore_idx] = False\n",
    "\n",
    "        assert use_idx.shape == L_center_edge.shape == L_neighbor_edge.shape\n",
    "\n",
    "        diff_gt_idx = diff_idx[use_idx]\n",
    "        edge_idx[valid_idx[diff_gt_idx]] = True\n",
    "\n",
    "    return edge_idx.reshape(h, w)  # returns np.ndarray dtype=bool"
   ]
  },
  {
   "cell_type": "code",
   "execution_count": 28,
   "id": "aa494738-e603-4c4f-aba1-1f87f11d3833",
   "metadata": {},
   "outputs": [
    {
     "name": "stdout",
     "output_type": "stream",
     "text": [
      "(2097152,)\n"
     ]
    }
   ],
   "source": [
    "car_edges = mask2edge_fast(car_mask, edges, 2, [], 'regular')"
   ]
  },
  {
   "cell_type": "code",
   "execution_count": 29,
   "id": "70c6799f-e864-4147-96b3-e6fa18cfb8a7",
   "metadata": {},
   "outputs": [],
   "source": [
    "car_edge_img = car_edges.astype('uint8')"
   ]
  },
  {
   "cell_type": "code",
   "execution_count": 30,
   "id": "e2c10b81-115c-4b58-b752-6be39ab8f654",
   "metadata": {},
   "outputs": [
    {
     "data": {
      "image/png": "[encoded data removed]",
      "text/plain": [
       "<Figure size 900x600 with 1 Axes>"
      ]
     },
     "metadata": {
      "needs_background": "light"
     },
     "output_type": "display_data"
    }
   ],
   "source": [
    "plt.imshow(car_edges, interpolation='nearest')\n",
    "plt.gcf().set_dpi(150)"
   ]
  },
  {
   "cell_type": "code",
   "execution_count": null,
   "id": "c900a428-565b-4e37-9b29-a960b0764abb",
   "metadata": {},
   "outputs": [],
   "source": []
  }
 ],
 "metadata": {
  "kernelspec": {
   "display_name": "Python 3 (ipykernel)",
   "language": "python",
   "name": "python3"
  },
  "language_info": {
   "codemirror_mode": {
    "name": "ipython",
    "version": 3
   },
   "file_extension": ".py",
   "mimetype": "text/x-python",
   "name": "python",
   "nbconvert_exporter": "python",
   "pygments_lexer": "ipython3",
   "version": "3.8.8"
  }
 },
 "nbformat": 4,
 "nbformat_minor": 5
}
